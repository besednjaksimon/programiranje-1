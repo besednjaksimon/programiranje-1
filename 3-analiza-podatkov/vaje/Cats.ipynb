{
 "cells": [
  {
   "cell_type": "code",
   "execution_count": 8,
   "metadata": {},
   "outputs": [],
   "source": [
    "import pandas as pd\n",
    "\n",
    "cats = pd.read_csv('../../2-zajem-podatkov/exercises/data_from_bolha/cats1.csv', index_col='id')\n",
    "\n",
    "pd.options.display.max_rows = 10"
   ]
  },
  {
   "cell_type": "markdown",
   "metadata": {},
   "source": [
    "# Downloading frontpage\n",
    "\n",
    "In order to check and analyze cat ads from bolha.com, we have to first save page to our computer. First, use the function `download_url_to_string(url)`, where the input is the url of the frontpage of cat ads from bolha.com. This saves the page (html) as string in Python terminal. Then, we have to actually save this string as file to our computer. We can do this in the following way:"
   ]
  },
  {
   "cell_type": "markdown",
   "metadata": {},
   "source": [
    "`text = download_url_to_string(url)\n",
    "save_string_to_file(text, directory, filename):`"
   ]
  },
  {
   "cell_type": "markdown",
   "metadata": {},
   "source": [
    "Function `save_string_to_file` does what we wanted. Argument `directory` determines the file location and argument `filename` determines its name."
   ]
  },
  {
   "cell_type": "markdown",
   "metadata": {},
   "source": [
    "Alternatively, we can just use the function `save_frontpage(url, directory, filename)`, which does exact same thing as code above."
   ]
  },
  {
   "cell_type": "markdown",
   "metadata": {},
   "source": [
    "# Splitting the page\n",
    "We have to read a file:"
   ]
  },
  {
   "cell_type": "markdown",
   "metadata": {},
   "source": [
    "`read_file_to_string(directory, filename)`"
   ]
  },
  {
   "cell_type": "markdown",
   "metadata": {},
   "source": [
    "Then we have to split the page on blocks of advertisements:"
   ]
  },
  {
   "cell_type": "markdown",
   "metadata": {},
   "source": [
    "`page_to_ads(webpage)`"
   ]
  },
  {
   "cell_type": "markdown",
   "metadata": {},
   "source": [
    "From each block we can extract the desired informations in the form of the dictionary, which contains ids, names, prices and descriptions as keys:"
   ]
  },
  {
   "cell_type": "markdown",
   "metadata": {},
   "source": [
    "`get_dict_from_ad_block(block)`"
   ]
  },
  {
   "cell_type": "markdown",
   "metadata": {},
   "source": [
    "Function `ads_from_file(directory, filename)` parses the ads in filename/directory into a dictionary list."
   ]
  },
  {
   "cell_type": "markdown",
   "metadata": {},
   "source": [
    "# Writing the ads in the csv format\n",
    "In the final step, we just use the function `write_cat_ads_to_csv(list_of_dicts_ads, directory, filename)`, where with arguments `directory` and `filename` we specify directory and name of the file, respectively."
   ]
  },
  {
   "cell_type": "code",
   "execution_count": null,
   "metadata": {
    "collapsed": true
   },
   "outputs": [],
   "source": []
  }
 ],
 "metadata": {
  "kernelspec": {
   "display_name": "Python 3",
   "language": "python",
   "name": "python3"
  },
  "language_info": {
   "codemirror_mode": {
    "name": "ipython",
    "version": 3
   },
   "file_extension": ".py",
   "mimetype": "text/x-python",
   "name": "python",
   "nbconvert_exporter": "python",
   "pygments_lexer": "ipython3",
   "version": "3.6.1"
  }
 },
 "nbformat": 4,
 "nbformat_minor": 2
}
